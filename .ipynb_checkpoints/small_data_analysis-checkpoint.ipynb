{
 "cells": [
  {
   "cell_type": "code",
   "execution_count": 1,
   "metadata": {},
   "outputs": [
    {
     "data": {
      "text/plain": [
       "'\\nThis notebook contains basic analysis and visualization of a small sample size of the data\\n'"
      ]
     },
     "execution_count": 1,
     "metadata": {},
     "output_type": "execute_result"
    }
   ],
   "source": [
    "\"\"\"\n",
    "This notebook contains basic analysis and visualization of a small sample size of the data\n",
    "Reference: http://preprocessed-connectomes-project.org/abide/Pipelines.html\n",
    "\"\"\""
   ]
  },
  {
   "cell_type": "markdown",
   "metadata": {},
   "source": [
    "## Hello"
   ]
  },
  {
   "cell_type": "code",
   "execution_count": 5,
   "metadata": {},
   "outputs": [],
   "source": [
    "from os import system\n",
    "\n",
    "import pandas as pd\n",
    "import glob\n",
    "import scripts.vizer as vz"
   ]
  },
  {
   "cell_type": "code",
   "execution_count": 3,
   "metadata": {},
   "outputs": [
    {
     "data": {
      "text/plain": [
       "' Run this code if you do not have the data in your data/ directory\\n\\nTo run, uncomment the line and run this cell.\\n\\nWARNING: Large download'"
      ]
     },
     "execution_count": 3,
     "metadata": {},
     "output_type": "execute_result"
    }
   ],
   "source": [
    "\"\"\" Run this code if you do not have the data in your data/ directory\n",
    "\n",
    "To run, uncomment the line and run this cell.\n",
    "\n",
    "WARNING: Large download\"\"\"\n",
    "\n",
    "# system(\"python3 scripts/download_abide_preproc.py -d rois_cc200 -p cpac -s filt_global -o data/\")\n"
   ]
  },
  {
   "cell_type": "code",
   "execution_count": 6,
   "metadata": {},
   "outputs": [],
   "source": [
    "#from sklearn.datasets import load_iris"
   ]
  },
  {
   "cell_type": "code",
   "execution_count": 44,
   "metadata": {},
   "outputs": [
    {
     "ename": "NameError",
     "evalue": "name 'string' is not defined",
     "output_type": "error",
     "traceback": [
      "\u001b[0;31m---------------------------------------------------------------------------\u001b[0m",
      "\u001b[0;31mNameError\u001b[0m                                 Traceback (most recent call last)",
      "\u001b[0;32m<ipython-input-44-a89143a164cf>\u001b[0m in \u001b[0;36m<module>\u001b[0;34m\u001b[0m\n\u001b[1;32m      2\u001b[0m \u001b[0mdata_label\u001b[0m \u001b[0;34m=\u001b[0m \u001b[0mpd\u001b[0m\u001b[0;34m.\u001b[0m\u001b[0mread_csv\u001b[0m\u001b[0;34m(\u001b[0m\u001b[0;34m'phenotypes_preprocessed.csv'\u001b[0m\u001b[0;34m)\u001b[0m\u001b[0;34m\u001b[0m\u001b[0m\n\u001b[1;32m      3\u001b[0m \u001b[0mdlabel\u001b[0m \u001b[0;34m=\u001b[0m \u001b[0mdata_label\u001b[0m\u001b[0;34m[\u001b[0m\u001b[0;34m[\u001b[0m\u001b[0;34m'subject'\u001b[0m\u001b[0;34m,\u001b[0m\u001b[0;34m'AGE_AT_SCAN'\u001b[0m\u001b[0;34m,\u001b[0m\u001b[0;34m'SEX'\u001b[0m\u001b[0;34m]\u001b[0m\u001b[0;34m]\u001b[0m\u001b[0;34m\u001b[0m\u001b[0m\n\u001b[0;32m----> 4\u001b[0;31m \u001b[0mdlabel\u001b[0m\u001b[0;34m.\u001b[0m\u001b[0mastype\u001b[0m\u001b[0;34m(\u001b[0m\u001b[0;34m{\u001b[0m\u001b[0;34m'subject'\u001b[0m\u001b[0;34m:\u001b[0m \u001b[0mstring\u001b[0m\u001b[0;34m}\u001b[0m\u001b[0;34m)\u001b[0m\u001b[0;34m.\u001b[0m\u001b[0mdtypes\u001b[0m\u001b[0;34m\u001b[0m\u001b[0m\n\u001b[0m",
      "\u001b[0;31mNameError\u001b[0m: name 'string' is not defined"
     ]
    }
   ],
   "source": [
    "# import phenotype file for subject age and sex)\n",
    "data_label = pd.read_csv('phenotypes_preprocessed.csv')\n",
    "dlabel = data_label[['subject','AGE_AT_SCAN','SEX']]"
   ]
  },
  {
   "cell_type": "code",
   "execution_count": null,
   "metadata": {},
   "outputs": [],
   "source": [
    "# find way to open data files\n",
    "# files = []\n",
    "# for f in glob.glob(\"data/*.1D\"):\n",
    "#     fo = open(f, \"r\")\n",
    "#     files.append(fo)\n",
    "\n",
    "# for fo in files:\n",
    "#     fo.close()"
   ]
  },
  {
   "cell_type": "code",
   "execution_count": 49,
   "metadata": {},
   "outputs": [
    {
     "name": "stdout",
     "output_type": "stream",
     "text": [
      "0      50532\n",
      "1      51109\n",
      "2      51059\n",
      "3      50964\n",
      "4      50569\n",
      "5      50337\n",
      "6      50156\n",
      "7      50320\n",
      "8      50114\n",
      "9      50248\n",
      "10     50973\n",
      "11     51298\n",
      "12     50525\n",
      "13     50669\n",
      "14     51260\n",
      "15     51130\n",
      "16     51060\n",
      "17     50802\n",
      "18     51470\n",
      "19     50050\n",
      "20     50266\n",
      "21     51333\n",
      "22     50047\n",
      "23     50271\n",
      "24     50319\n",
      "25     50776\n",
      "26     51179\n",
      "27     51277\n",
      "28     51077\n",
      "29     51467\n",
      "       ...  \n",
      "853    50208\n",
      "854    51006\n",
      "855    51156\n",
      "856    51206\n",
      "857    51342\n",
      "858    50285\n",
      "859    50986\n",
      "860    50368\n",
      "861    50697\n",
      "862    50036\n",
      "863    50614\n",
      "864    50404\n",
      "865    50390\n",
      "866    50346\n",
      "867    51485\n",
      "868    51095\n",
      "869    50197\n",
      "870    51313\n",
      "871    51028\n",
      "872    50783\n",
      "873    51492\n",
      "874    51082\n",
      "875    51282\n",
      "876    50239\n",
      "877    51578\n",
      "878    50351\n",
      "879    50603\n",
      "880    50413\n",
      "881    50728\n",
      "882    50387\n",
      "Name: subject, Length: 883, dtype: int64\n"
     ]
    }
   ],
   "source": [
    "# import cc200 data \n",
    "files = []\n",
    "subjectID = []\n",
    "for f in glob.glob(\"data/*.1D\"):\n",
    "    files.append(f)\n",
    "    labels = f.split('_')\n",
    "    if len(labels[1]) > 2:\n",
    "        subjectID.append(labels[1])\n",
    "    else:\n",
    "        subjectID.append(labels[2])\n",
    "assert(len(s) == 7 for s in subjectID)\n",
    "\n",
    "test_data = pd.DataFrame({'file': files, 'subject': subjectID})\n",
    "# test_data.astype({'subject': 'int64'}).dtypes\n",
    "test_data[\"subject\"] = pd.to_numeric(test_data[\"subject\"])\n",
    "print(test_data['subject'])"
   ]
  },
  {
   "cell_type": "code",
   "execution_count": 51,
   "metadata": {},
   "outputs": [
    {
     "name": "stdout",
     "output_type": "stream",
     "text": [
      "                                    file  subject  AGE_AT_SCAN_x  SEX_x  \\\n",
      "0         data/USM_0050532_rois_cc200.1D    50532        16.9199      1   \n",
      "1         data/NYU_0051109_rois_cc200.1D    51109        16.1300      1   \n",
      "2         data/NYU_0051059_rois_cc200.1D    51059        22.7600      2   \n",
      "3         data/NYU_0050964_rois_cc200.1D    50964        12.7500      1   \n",
      "4        data/Yale_0050569_rois_cc200.1D    50569        16.6600      2   \n",
      "5        data/UM_1_0050337_rois_cc200.1D    50337        11.8000      1   \n",
      "6        data/OHSU_0050156_rois_cc200.1D    50156        15.2300      1   \n",
      "7        data/UM_1_0050320_rois_cc200.1D    50320        18.6000      1   \n",
      "8        data/Olin_0050114_rois_cc200.1D    50114        20.0000      2   \n",
      "9     data/Trinity_0050248_rois_cc200.1D    50248        13.5800      1   \n",
      "10        data/NYU_0050973_rois_cc200.1D    50973        17.8800      1   \n",
      "11     data/UCLA_2_0051298_rois_cc200.1D    51298        10.5700      1   \n",
      "12        data/USM_0050525_rois_cc200.1D    50525        32.8487      1   \n",
      "13      data/CMU_b_0050669_rois_cc200.1D    50669        30.0000      2   \n",
      "14     data/UCLA_1_0051260_rois_cc200.1D    51260        13.6600      1   \n",
      "15        data/NYU_0051130_rois_cc200.1D    51130        19.1300      1   \n",
      "16        data/NYU_0051060_rois_cc200.1D    51060        22.7400      2   \n",
      "17        data/KKI_0050802_rois_cc200.1D    50802         8.2000      1   \n",
      "18    data/Caltech_0051470_rois_cc200.1D    51470        29.1000      1   \n",
      "19       data/Pitt_0050050_rois_cc200.1D    50050        14.3700      1   \n",
      "20    data/Trinity_0050266_rois_cc200.1D    50266        15.9100      1   \n",
      "21   data/MaxMun_c_0051333_rois_cc200.1D    51333        24.0000      1   \n",
      "22       data/Pitt_0050047_rois_cc200.1D    50047        15.3500      1   \n",
      "23    data/Trinity_0050271_rois_cc200.1D    50271        19.6600      1   \n",
      "24       data/UM_1_0050319_rois_cc200.1D    50319        15.0000      2   \n",
      "25        data/KKI_0050776_rois_cc200.1D    50776         9.3000      1   \n",
      "26   data/Stanford_0051179_rois_cc200.1D    51179        11.6543      1   \n",
      "27     data/UCLA_1_0051277_rois_cc200.1D    51277        12.0100      1   \n",
      "28        data/NYU_0051077_rois_cc200.1D    51077        17.3000      1   \n",
      "29    data/Caltech_0051467_rois_cc200.1D    51467        23.4000      1   \n",
      "..                                   ...      ...            ...    ...   \n",
      "853      data/SDSU_0050208_rois_cc200.1D    50208        13.7800      2   \n",
      "854       data/NYU_0051006_rois_cc200.1D    51006        11.1100      1   \n",
      "855       data/NYU_0051156_rois_cc200.1D    51156        21.1500      1   \n",
      "856    data/UCLA_1_0051206_rois_cc200.1D    51206        15.7800      1   \n",
      "857  data/MaxMun_c_0051342_rois_cc200.1D    51342        23.0000      1   \n",
      "858      data/UM_1_0050285_rois_cc200.1D    50285        12.8000      2   \n",
      "859       data/NYU_0050986_rois_cc200.1D    50986         8.5300      1   \n",
      "860      data/UM_1_0050368_rois_cc200.1D    50368        17.9000      1   \n",
      "861  data/Leuven_1_0050697_rois_cc200.1D    50697        19.0000      1   \n",
      "862      data/Pitt_0050036_rois_cc200.1D    50036        13.2800      2   \n",
      "863      data/Yale_0050614_rois_cc200.1D    50614        17.7500      1   \n",
      "864      data/UM_2_0050404_rois_cc200.1D    50404        15.8000      1   \n",
      "865      data/UM_2_0050390_rois_cc200.1D    50390        14.5000      1   \n",
      "866      data/UM_1_0050346_rois_cc200.1D    50346        18.9000      1   \n",
      "867   data/Caltech_0051485_rois_cc200.1D    51485        23.9000      1   \n",
      "868       data/NYU_0051095_rois_cc200.1D    51095        12.2300      1   \n",
      "869      data/SDSU_0050197_rois_cc200.1D    50197        14.9800      1   \n",
      "870    data/UCLA_2_0051313_rois_cc200.1D    51313        13.3600      1   \n",
      "871       data/NYU_0051028_rois_cc200.1D    51028        29.1800      1   \n",
      "872       data/KKI_0050783_rois_cc200.1D    50783        10.4000      2   \n",
      "873   data/Caltech_0051492_rois_cc200.1D    51492        18.7000      1   \n",
      "874       data/NYU_0051082_rois_cc200.1D    51082         8.8800      1   \n",
      "875    data/UCLA_1_0051282_rois_cc200.1D    51282        12.7300      2   \n",
      "876   data/Trinity_0050239_rois_cc200.1D    50239        17.0300      1   \n",
      "877       data/SBL_0051578_rois_cc200.1D    51578        33.0000      1   \n",
      "878      data/UM_1_0050351_rois_cc200.1D    50351        16.8000      1   \n",
      "879      data/Yale_0050603_rois_cc200.1D    50603        13.2500      1   \n",
      "880      data/UM_2_0050413_rois_cc200.1D    50413        13.1000      1   \n",
      "881  data/Leuven_2_0050728_rois_cc200.1D    50728        15.6000      1   \n",
      "882      data/UM_2_0050387_rois_cc200.1D    50387        14.0000      1   \n",
      "\n",
      "     AGE_AT_SCAN_y  SEX_y  \n",
      "0          16.9199      1  \n",
      "1          16.1300      1  \n",
      "2          22.7600      2  \n",
      "3          12.7500      1  \n",
      "4          16.6600      2  \n",
      "5          11.8000      1  \n",
      "6          15.2300      1  \n",
      "7          18.6000      1  \n",
      "8          20.0000      2  \n",
      "9          13.5800      1  \n",
      "10         17.8800      1  \n",
      "11         10.5700      1  \n",
      "12         32.8487      1  \n",
      "13         30.0000      2  \n",
      "14         13.6600      1  \n",
      "15         19.1300      1  \n",
      "16         22.7400      2  \n",
      "17          8.2000      1  \n",
      "18         29.1000      1  \n",
      "19         14.3700      1  \n",
      "20         15.9100      1  \n",
      "21         24.0000      1  \n",
      "22         15.3500      1  \n",
      "23         19.6600      1  \n",
      "24         15.0000      2  \n",
      "25          9.3000      1  \n",
      "26         11.6543      1  \n",
      "27         12.0100      1  \n",
      "28         17.3000      1  \n",
      "29         23.4000      1  \n",
      "..             ...    ...  \n",
      "853        13.7800      2  \n",
      "854        11.1100      1  \n",
      "855        21.1500      1  \n",
      "856        15.7800      1  \n",
      "857        23.0000      1  \n",
      "858        12.8000      2  \n",
      "859         8.5300      1  \n",
      "860        17.9000      1  \n",
      "861        19.0000      1  \n",
      "862        13.2800      2  \n",
      "863        17.7500      1  \n",
      "864        15.8000      1  \n",
      "865        14.5000      1  \n",
      "866        18.9000      1  \n",
      "867        23.9000      1  \n",
      "868        12.2300      1  \n",
      "869        14.9800      1  \n",
      "870        13.3600      1  \n",
      "871        29.1800      1  \n",
      "872        10.4000      2  \n",
      "873        18.7000      1  \n",
      "874         8.8800      1  \n",
      "875        12.7300      2  \n",
      "876        17.0300      1  \n",
      "877        33.0000      1  \n",
      "878        16.8000      1  \n",
      "879        13.2500      1  \n",
      "880        13.1000      1  \n",
      "881        15.6000      1  \n",
      "882        14.0000      1  \n",
      "\n",
      "[883 rows x 6 columns]\n"
     ]
    }
   ],
   "source": [
    "test_data = pd.merge(test_data, dlabel, on='subject', how='inner')\n",
    "print(test_data)"
   ]
  },
  {
   "cell_type": "code",
   "execution_count": 52,
   "metadata": {},
   "outputs": [
    {
     "data": {
      "text/html": [
       "<div>\n",
       "<style scoped>\n",
       "    .dataframe tbody tr th:only-of-type {\n",
       "        vertical-align: middle;\n",
       "    }\n",
       "\n",
       "    .dataframe tbody tr th {\n",
       "        vertical-align: top;\n",
       "    }\n",
       "\n",
       "    .dataframe thead th {\n",
       "        text-align: right;\n",
       "    }\n",
       "</style>\n",
       "<table border=\"1\" class=\"dataframe\">\n",
       "  <thead>\n",
       "    <tr style=\"text-align: right;\">\n",
       "      <th></th>\n",
       "      <th>subject</th>\n",
       "      <th>AGE_AT_SCAN_x</th>\n",
       "      <th>SEX_x</th>\n",
       "      <th>AGE_AT_SCAN_y</th>\n",
       "      <th>SEX_y</th>\n",
       "    </tr>\n",
       "  </thead>\n",
       "  <tbody>\n",
       "    <tr>\n",
       "      <th>count</th>\n",
       "      <td>883.000000</td>\n",
       "      <td>883.000000</td>\n",
       "      <td>883.000000</td>\n",
       "      <td>883.000000</td>\n",
       "      <td>883.000000</td>\n",
       "    </tr>\n",
       "    <tr>\n",
       "      <th>mean</th>\n",
       "      <td>50767.738392</td>\n",
       "      <td>17.210906</td>\n",
       "      <td>1.156285</td>\n",
       "      <td>17.210906</td>\n",
       "      <td>1.156285</td>\n",
       "    </tr>\n",
       "    <tr>\n",
       "      <th>std</th>\n",
       "      <td>451.474845</td>\n",
       "      <td>8.129171</td>\n",
       "      <td>0.363331</td>\n",
       "      <td>8.129171</td>\n",
       "      <td>0.363331</td>\n",
       "    </tr>\n",
       "    <tr>\n",
       "      <th>min</th>\n",
       "      <td>50004.000000</td>\n",
       "      <td>6.470000</td>\n",
       "      <td>1.000000</td>\n",
       "      <td>6.470000</td>\n",
       "      <td>1.000000</td>\n",
       "    </tr>\n",
       "    <tr>\n",
       "      <th>25%</th>\n",
       "      <td>50354.000000</td>\n",
       "      <td>11.861100</td>\n",
       "      <td>1.000000</td>\n",
       "      <td>11.861100</td>\n",
       "      <td>1.000000</td>\n",
       "    </tr>\n",
       "    <tr>\n",
       "      <th>50%</th>\n",
       "      <td>50752.000000</td>\n",
       "      <td>14.800000</td>\n",
       "      <td>1.000000</td>\n",
       "      <td>14.800000</td>\n",
       "      <td>1.000000</td>\n",
       "    </tr>\n",
       "    <tr>\n",
       "      <th>75%</th>\n",
       "      <td>51151.500000</td>\n",
       "      <td>20.190350</td>\n",
       "      <td>1.000000</td>\n",
       "      <td>20.190350</td>\n",
       "      <td>1.000000</td>\n",
       "    </tr>\n",
       "    <tr>\n",
       "      <th>max</th>\n",
       "      <td>51607.000000</td>\n",
       "      <td>64.000000</td>\n",
       "      <td>2.000000</td>\n",
       "      <td>64.000000</td>\n",
       "      <td>2.000000</td>\n",
       "    </tr>\n",
       "  </tbody>\n",
       "</table>\n",
       "</div>"
      ],
      "text/plain": [
       "            subject  AGE_AT_SCAN_x       SEX_x  AGE_AT_SCAN_y       SEX_y\n",
       "count    883.000000     883.000000  883.000000     883.000000  883.000000\n",
       "mean   50767.738392      17.210906    1.156285      17.210906    1.156285\n",
       "std      451.474845       8.129171    0.363331       8.129171    0.363331\n",
       "min    50004.000000       6.470000    1.000000       6.470000    1.000000\n",
       "25%    50354.000000      11.861100    1.000000      11.861100    1.000000\n",
       "50%    50752.000000      14.800000    1.000000      14.800000    1.000000\n",
       "75%    51151.500000      20.190350    1.000000      20.190350    1.000000\n",
       "max    51607.000000      64.000000    2.000000      64.000000    2.000000"
      ]
     },
     "execution_count": 52,
     "metadata": {},
     "output_type": "execute_result"
    }
   ],
   "source": [
    "test_data.describe()"
   ]
  },
  {
   "cell_type": "code",
   "execution_count": 15,
   "metadata": {},
   "outputs": [
    {
     "name": "stdout",
     "output_type": "stream",
     "text": [
      "   num_present                              max  \\\n",
      "0          883  data/Yale_0050628_rois_cc200.1D   \n",
      "\n",
      "                                min  mean  median  \n",
      "0  data/CMU_a_0050649_rois_cc200.1D   NaN     NaN   \n",
      "\n"
     ]
    }
   ],
   "source": [
    "data = test_data\n",
    "stats = {\n",
    "        'num_present': data.count(),\n",
    "        # 'num_missing': get_num_missing(data),\n",
    "        'max': data.max(),\n",
    "        'min': data.min(),\n",
    "        'mean': data.mean(),\n",
    "        'median': data.median(),\n",
    "#         'mode': data.mode()\n",
    "    }\n",
    "\n",
    "print(pd.DataFrame(data=stats), '\\n')"
   ]
  },
  {
   "cell_type": "code",
   "execution_count": null,
   "metadata": {},
   "outputs": [],
   "source": []
  },
  {
   "cell_type": "code",
   "execution_count": 16,
   "metadata": {},
   "outputs": [
    {
     "name": "stdout",
     "output_type": "stream",
     "text": [
      "Number of data points:  883\n",
      "Number of features:  1\n",
      "\n",
      "\n",
      "   num_present                              max  \\\n",
      "0          883  data/Yale_0050628_rois_cc200.1D   \n",
      "\n",
      "                                min  mean  median  \n",
      "0  data/CMU_a_0050649_rois_cc200.1D   NaN     NaN   \n",
      "\n",
      "\n",
      "\n",
      "Argument Error: Make sure you only provide data, or only x and y.\n"
     ]
    },
    {
     "data": {
      "image/png": "[encoded data removed]",
      "text/plain": [
       "<Figure size 432x288 with 1 Axes>"
      ]
     },
     "metadata": {
      "needs_background": "light"
     },
     "output_type": "display_data"
    },
    {
     "name": "stdout",
     "output_type": "stream",
     "text": [
      "\n",
      "\n"
     ]
    },
    {
     "ename": "TypeError",
     "evalue": "bad operand type for abs(): 'str'",
     "output_type": "error",
     "traceback": [
      "\u001b[0;31m---------------------------------------------------------------------------\u001b[0m",
      "\u001b[0;31mTypeError\u001b[0m                                 Traceback (most recent call last)",
      "\u001b[0;32m<ipython-input-16-28abaf9457c6>\u001b[0m in \u001b[0;36m<module>\u001b[0;34m\u001b[0m\n\u001b[1;32m      1\u001b[0m \u001b[0mtest_data\u001b[0m\u001b[0;34m.\u001b[0m\u001b[0mcolumns\u001b[0m \u001b[0;34m=\u001b[0m \u001b[0;34m[\u001b[0m\u001b[0mstr\u001b[0m\u001b[0;34m(\u001b[0m\u001b[0mnum\u001b[0m\u001b[0;34m)\u001b[0m \u001b[0;32mfor\u001b[0m \u001b[0mnum\u001b[0m \u001b[0;32min\u001b[0m \u001b[0mrange\u001b[0m\u001b[0;34m(\u001b[0m\u001b[0mlen\u001b[0m\u001b[0;34m(\u001b[0m\u001b[0mtest_data\u001b[0m\u001b[0;34m.\u001b[0m\u001b[0mcolumns\u001b[0m\u001b[0;34m)\u001b[0m\u001b[0;34m)\u001b[0m\u001b[0;34m]\u001b[0m\u001b[0;34m\u001b[0m\u001b[0m\n\u001b[0;32m----> 2\u001b[0;31m \u001b[0mvz\u001b[0m\u001b[0;34m.\u001b[0m\u001b[0msummary\u001b[0m\u001b[0;34m(\u001b[0m\u001b[0mtest_data\u001b[0m\u001b[0;34m,\u001b[0m \u001b[0mtarget_name\u001b[0m\u001b[0;34m=\u001b[0m\u001b[0;34m\"3\"\u001b[0m\u001b[0;34m)\u001b[0m\u001b[0;34m\u001b[0m\u001b[0m\n\u001b[0m",
      "\u001b[0;32m~/project/cs230/cs230-final-project/scripts/vizer.py\u001b[0m in \u001b[0;36msummary\u001b[0;34m(data, target_name, definitions, hue)\u001b[0m\n\u001b[1;32m    161\u001b[0m \u001b[0;34m\u001b[0m\u001b[0m\n\u001b[1;32m    162\u001b[0m     \u001b[0;31m# plot informational correlation plot\u001b[0m\u001b[0;34m\u001b[0m\u001b[0;34m\u001b[0m\u001b[0m\n\u001b[0;32m--> 163\u001b[0;31m     \u001b[0mheatmap\u001b[0m\u001b[0;34m.\u001b[0m\u001b[0mcorrplot\u001b[0m\u001b[0;34m(\u001b[0m\u001b[0mdata\u001b[0m\u001b[0;34m)\u001b[0m\u001b[0;34m\u001b[0m\u001b[0m\n\u001b[0m\u001b[1;32m    164\u001b[0m \u001b[0;34m\u001b[0m\u001b[0m\n\u001b[1;32m    165\u001b[0m \u001b[0;34m\"\"\" Machine Learning Visualization Tools\"\"\"\u001b[0m\u001b[0;34m\u001b[0m\u001b[0m\n",
      "\u001b[0;32m~/project/cs230/cs230-final-project/scripts/heatmap.py\u001b[0m in \u001b[0;36mcorrplot\u001b[0;34m(data, size_scale, marker)\u001b[0m\n\u001b[1;32m    128\u001b[0m         \u001b[0mcolor\u001b[0m\u001b[0;34m=\u001b[0m\u001b[0mcorr\u001b[0m\u001b[0;34m[\u001b[0m\u001b[0;34m'value'\u001b[0m\u001b[0;34m]\u001b[0m\u001b[0;34m,\u001b[0m \u001b[0mcolor_range\u001b[0m\u001b[0;34m=\u001b[0m\u001b[0;34m[\u001b[0m\u001b[0;34m-\u001b[0m\u001b[0;36m1\u001b[0m\u001b[0;34m,\u001b[0m \u001b[0;36m1\u001b[0m\u001b[0;34m]\u001b[0m\u001b[0;34m,\u001b[0m\u001b[0;34m\u001b[0m\u001b[0m\n\u001b[1;32m    129\u001b[0m         \u001b[0mpalette\u001b[0m\u001b[0;34m=\u001b[0m\u001b[0msns\u001b[0m\u001b[0;34m.\u001b[0m\u001b[0mdiverging_palette\u001b[0m\u001b[0;34m(\u001b[0m\u001b[0;36m20\u001b[0m\u001b[0;34m,\u001b[0m \u001b[0;36m220\u001b[0m\u001b[0;34m,\u001b[0m \u001b[0mn\u001b[0m\u001b[0;34m=\u001b[0m\u001b[0;36m256\u001b[0m\u001b[0;34m)\u001b[0m\u001b[0;34m,\u001b[0m\u001b[0;34m\u001b[0m\u001b[0m\n\u001b[0;32m--> 130\u001b[0;31m         \u001b[0msize\u001b[0m\u001b[0;34m=\u001b[0m\u001b[0mcorr\u001b[0m\u001b[0;34m[\u001b[0m\u001b[0;34m'value'\u001b[0m\u001b[0;34m]\u001b[0m\u001b[0;34m.\u001b[0m\u001b[0mabs\u001b[0m\u001b[0;34m(\u001b[0m\u001b[0;34m)\u001b[0m\u001b[0;34m,\u001b[0m \u001b[0msize_range\u001b[0m\u001b[0;34m=\u001b[0m\u001b[0;34m[\u001b[0m\u001b[0;36m0\u001b[0m\u001b[0;34m,\u001b[0m\u001b[0;36m1\u001b[0m\u001b[0;34m]\u001b[0m\u001b[0;34m,\u001b[0m\u001b[0;34m\u001b[0m\u001b[0m\n\u001b[0m\u001b[1;32m    131\u001b[0m         \u001b[0mmarker\u001b[0m\u001b[0;34m=\u001b[0m\u001b[0mmarker\u001b[0m\u001b[0;34m,\u001b[0m\u001b[0;34m\u001b[0m\u001b[0m\n\u001b[1;32m    132\u001b[0m         \u001b[0mx_order\u001b[0m\u001b[0;34m=\u001b[0m\u001b[0mdata\u001b[0m\u001b[0;34m.\u001b[0m\u001b[0mcolumns\u001b[0m\u001b[0;34m,\u001b[0m\u001b[0;34m\u001b[0m\u001b[0m\n",
      "\u001b[0;32m/Library/Frameworks/Python.framework/Versions/3.7/lib/python3.7/site-packages/pandas/core/generic.py\u001b[0m in \u001b[0;36mabs\u001b[0;34m(self)\u001b[0m\n\u001b[1;32m   9480\u001b[0m         \u001b[0;36m3\u001b[0m    \u001b[0;36m7\u001b[0m   \u001b[0;36m40\u001b[0m  \u001b[0;34m-\u001b[0m\u001b[0;36m50\u001b[0m\u001b[0;34m\u001b[0m\u001b[0m\n\u001b[1;32m   9481\u001b[0m         \"\"\"\n\u001b[0;32m-> 9482\u001b[0;31m         \u001b[0;32mreturn\u001b[0m \u001b[0mnp\u001b[0m\u001b[0;34m.\u001b[0m\u001b[0mabs\u001b[0m\u001b[0;34m(\u001b[0m\u001b[0mself\u001b[0m\u001b[0;34m)\u001b[0m\u001b[0;34m\u001b[0m\u001b[0m\n\u001b[0m\u001b[1;32m   9483\u001b[0m \u001b[0;34m\u001b[0m\u001b[0m\n\u001b[1;32m   9484\u001b[0m     \u001b[0;32mdef\u001b[0m \u001b[0mdescribe\u001b[0m\u001b[0;34m(\u001b[0m\u001b[0mself\u001b[0m\u001b[0;34m,\u001b[0m \u001b[0mpercentiles\u001b[0m\u001b[0;34m=\u001b[0m\u001b[0;32mNone\u001b[0m\u001b[0;34m,\u001b[0m \u001b[0minclude\u001b[0m\u001b[0;34m=\u001b[0m\u001b[0;32mNone\u001b[0m\u001b[0;34m,\u001b[0m \u001b[0mexclude\u001b[0m\u001b[0;34m=\u001b[0m\u001b[0;32mNone\u001b[0m\u001b[0;34m)\u001b[0m\u001b[0;34m:\u001b[0m\u001b[0;34m\u001b[0m\u001b[0m\n",
      "\u001b[0;31mTypeError\u001b[0m: bad operand type for abs(): 'str'"
     ]
    }
   ],
   "source": [
    "# test_data.columns = [str(num) for num in range(len(test_data.columns))]\n",
    "# vz.summary(test_data, target_name=\"3\")"
   ]
  },
  {
   "cell_type": "code",
   "execution_count": null,
   "metadata": {},
   "outputs": [],
   "source": []
  }
 ],
 "metadata": {
  "kernelspec": {
   "display_name": "Python 3",
   "language": "python",
   "name": "python3"
  },
  "language_info": {
   "codemirror_mode": {
    "name": "ipython",
    "version": 3
   },
   "file_extension": ".py",
   "mimetype": "text/x-python",
   "name": "python",
   "nbconvert_exporter": "python",
   "pygments_lexer": "ipython3",
   "version": "3.7.0"
  }
 },
 "nbformat": 4,
 "nbformat_minor": 2
}
