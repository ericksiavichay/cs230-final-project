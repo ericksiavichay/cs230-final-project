{
 "cells": [
  {
   "cell_type": "code",
   "execution_count": 3,
   "metadata": {},
   "outputs": [
    {
     "data": {
      "text/plain": [
       "'\\nThis notebook contains basic analysis and visualization of a small sample size of the data\\nReference: http://preprocessed-connectomes-project.org/abide/Pipelines.html\\n'"
      ]
     },
     "execution_count": 3,
     "metadata": {},
     "output_type": "execute_result"
    }
   ],
   "source": [
    "\"\"\"\n",
    "This notebook contains basic analysis and visualization of a small sample size of the data\n",
    "Reference: http://preprocessed-connectomes-project.org/abide/Pipelines.html\n",
    "\"\"\""
   ]
  },
  {
   "cell_type": "markdown",
   "metadata": {},
   "source": [
    "## Hello"
   ]
  },
  {
   "cell_type": "code",
   "execution_count": 4,
   "metadata": {},
   "outputs": [
    {
     "ename": "ImportError",
     "evalue": "No module named seaborn",
     "output_type": "error",
     "traceback": [
      "\u001b[1;31m---------------------------------------------------------------------------\u001b[0m",
      "\u001b[1;31mImportError\u001b[0m                               Traceback (most recent call last)",
      "\u001b[1;32m<ipython-input-4-16a39213523f>\u001b[0m in \u001b[0;36m<module>\u001b[1;34m()\u001b[0m\n\u001b[0;32m      3\u001b[0m \u001b[1;32mimport\u001b[0m \u001b[0mpandas\u001b[0m \u001b[1;32mas\u001b[0m \u001b[0mpd\u001b[0m\u001b[1;33m\u001b[0m\u001b[0m\n\u001b[0;32m      4\u001b[0m \u001b[1;32mimport\u001b[0m \u001b[0mglob\u001b[0m\u001b[1;33m\u001b[0m\u001b[0m\n\u001b[1;32m----> 5\u001b[1;33m \u001b[1;32mimport\u001b[0m \u001b[0mscripts\u001b[0m\u001b[1;33m.\u001b[0m\u001b[0mvizer\u001b[0m \u001b[1;32mas\u001b[0m \u001b[0mvz\u001b[0m\u001b[1;33m\u001b[0m\u001b[0m\n\u001b[0m",
      "\u001b[1;32mC:\\Users\\Soham\\Desktop\\Autumn2019\\CS230_Final_Project\\cs230-final-project\\scripts\\vizer.py\u001b[0m in \u001b[0;36m<module>\u001b[1;34m()\u001b[0m\n\u001b[0;32m      5\u001b[0m \u001b[1;33m\u001b[0m\u001b[0m\n\u001b[0;32m      6\u001b[0m \u001b[1;32mimport\u001b[0m \u001b[0mmatplotlib\u001b[0m\u001b[1;33m.\u001b[0m\u001b[0mpyplot\u001b[0m \u001b[1;32mas\u001b[0m \u001b[0mplt\u001b[0m\u001b[1;33m\u001b[0m\u001b[0m\n\u001b[1;32m----> 7\u001b[1;33m \u001b[1;32mimport\u001b[0m \u001b[0mseaborn\u001b[0m \u001b[1;32mas\u001b[0m \u001b[0msns\u001b[0m\u001b[1;33m\u001b[0m\u001b[0m\n\u001b[0m\u001b[0;32m      8\u001b[0m \u001b[1;32mimport\u001b[0m \u001b[0mpandas\u001b[0m \u001b[1;32mas\u001b[0m \u001b[0mpd\u001b[0m\u001b[1;33m\u001b[0m\u001b[0m\n\u001b[0;32m      9\u001b[0m \u001b[1;32mimport\u001b[0m \u001b[0mmissingno\u001b[0m \u001b[1;32mas\u001b[0m \u001b[0mmsno\u001b[0m\u001b[1;33m\u001b[0m\u001b[0m\n",
      "\u001b[1;31mImportError\u001b[0m: No module named seaborn"
     ]
    }
   ],
   "source": [
    "from os import system\n",
    "\n",
    "import pandas as pd\n",
    "import glob\n",
    "import scripts.vizer as vz"
   ]
  },
  {
   "cell_type": "code",
   "execution_count": 5,
   "metadata": {},
   "outputs": [
    {
     "name": "stdout",
     "output_type": "stream",
     "text": [
      "hello\n"
     ]
    }
   ],
   "source": [
    "\"\"\" Run this code if you do not have the data in your data/ directory\n",
    "\n",
    "To run, uncomment the line and run this cell.\n",
    "\n",
    "WARNING: Large download\"\"\"\n",
    "\n",
    "# system(\"python3 scripts/download_abide_preproc.py -d rois_cc200 -p cpac -s filt_global -o data/\")\n",
    "print(\"hello\")"
   ]
  },
  {
   "cell_type": "code",
   "execution_count": 6,
   "metadata": {},
   "outputs": [],
   "source": [
    "#from sklearn.datasets import load_iris"
   ]
  },
  {
   "cell_type": "code",
   "execution_count": 7,
   "metadata": {},
   "outputs": [],
   "source": [
    "# import phenotype file for subject age and sex)\n",
    "data_label = pd.read_csv('phenotypes_preprocessed.csv')\n",
    "dlabel = data_label[['subject','AGE_AT_SCAN','SEX']]"
   ]
  },
  {
   "cell_type": "code",
   "execution_count": null,
   "metadata": {},
   "outputs": [],
   "source": [
    "# find way to open data files\n",
    "# files = []\n",
    "df_list = []\n",
    "for f in glob.glob(\"data/*.1D\"):\n",
    "    fo = open(f, \"r\")\n",
    "    #print(f)\n",
    "    df = pd.read_csv(f, sep=\"\\t\")\n",
    "    print(df)\n",
    "\n",
    "#print(df_list)\n",
    "# for fo in files:\n",
    "#     fo.close()"
   ]
  },
  {
   "cell_type": "code",
   "execution_count": null,
   "metadata": {},
   "outputs": [],
   "source": [
    "# import cc200 data \n",
    "files = []\n",
    "subjectID = []\n",
    "for f in glob.glob(\"data/*.1D\"):\n",
    "    files.append(f)\n",
    "    labels = f.split('_')\n",
    "    if len(labels[1]) > 2:\n",
    "        subjectID.append(labels[1])\n",
    "    else:\n",
    "        subjectID.append(labels[2])\n",
    "assert(len(s) == 7 for s in subjectID)\n",
    "\n",
    "test_data = pd.DataFrame({'file': files, 'subject': subjectID})\n",
    "# test_data.astype({'subject': 'int64'}).dtypes\n",
    "test_data[\"subject\"] = pd.to_numeric(test_data[\"subject\"])\n",
    "print(test_data['subject'])"
   ]
  },
  {
   "cell_type": "code",
   "execution_count": null,
   "metadata": {},
   "outputs": [],
   "source": [
    "test_data = pd.merge(test_data, dlabel, on='subject', how='inner')\n",
    "print(test_data)"
   ]
  },
  {
   "cell_type": "code",
   "execution_count": null,
   "metadata": {},
   "outputs": [],
   "source": [
    "test_data.describe()"
   ]
  },
  {
   "cell_type": "code",
   "execution_count": null,
   "metadata": {},
   "outputs": [],
   "source": [
    "data = test_data\n",
    "stats = {\n",
    "        'num_present': data.count(),\n",
    "        # 'num_missing': get_num_missing(data),\n",
    "        'max': data.max(),\n",
    "        'min': data.min(),\n",
    "        'mean': data.mean(),\n",
    "        'median': data.median(),\n",
    "#         'mode': data.mode()\n",
    "    }\n",
    "\n",
    "print(pd.DataFrame(data=stats), '\\n')"
   ]
  },
  {
   "cell_type": "code",
   "execution_count": null,
   "metadata": {},
   "outputs": [],
   "source": []
  },
  {
   "cell_type": "code",
   "execution_count": null,
   "metadata": {},
   "outputs": [],
   "source": [
    "# test_data.columns = [str(num) for num in range(len(test_data.columns))]\n",
    "# vz.summary(test_data, target_name=\"3\")"
   ]
  },
  {
   "cell_type": "code",
   "execution_count": null,
   "metadata": {},
   "outputs": [],
   "source": []
  },
  {
   "cell_type": "code",
   "execution_count": null,
   "metadata": {},
   "outputs": [],
   "source": []
  },
  {
   "cell_type": "code",
   "execution_count": null,
   "metadata": {},
   "outputs": [],
   "source": []
  }
 ],
 "metadata": {
  "kernelspec": {
   "display_name": "Python 2",
   "language": "python",
   "name": "python2"
  }
 },
 "nbformat": 4,
 "nbformat_minor": 2
}
