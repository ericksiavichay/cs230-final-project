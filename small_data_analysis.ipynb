{
 "cells": [
  {
   "cell_type": "code",
   "execution_count": 1,
   "metadata": {},
   "outputs": [
    {
     "data": {
      "text/plain": [
       "'\\nThis notebook contains basic analysis and visualization of a small sample size of the data\\nReference: http://preprocessed-connectomes-project.org/abide/Pipelines.html\\n'"
      ]
     },
     "execution_count": 1,
     "metadata": {},
     "output_type": "execute_result"
    }
   ],
   "source": [
    "\"\"\"\n",
    "This notebook contains basic analysis and visualization of a small sample size of the data\n",
    "Reference: http://preprocessed-connectomes-project.org/abide/Pipelines.html\n",
    "\"\"\""
   ]
  },
  {
   "cell_type": "code",
   "execution_count": 1,
   "metadata": {},
   "outputs": [],
   "source": [
    "from os import system\n",
    "\n",
    "import pandas as pd\n",
    "import glob\n",
    "import scripts.vizer as vz\n",
    "import seaborn as sns\n",
    "# import st_gcn"
   ]
  },
  {
   "cell_type": "code",
   "execution_count": 2,
   "metadata": {},
   "outputs": [],
   "source": [
    "hcp_filtered = pd.read_csv(\"HCP_1200_filtered.csv\")"
   ]
  },
  {
   "cell_type": "code",
   "execution_count": 3,
   "metadata": {},
   "outputs": [
    {
     "data": {
      "text/html": [
       "<div>\n",
       "<style scoped>\n",
       "    .dataframe tbody tr th:only-of-type {\n",
       "        vertical-align: middle;\n",
       "    }\n",
       "\n",
       "    .dataframe tbody tr th {\n",
       "        vertical-align: top;\n",
       "    }\n",
       "\n",
       "    .dataframe thead th {\n",
       "        text-align: right;\n",
       "    }\n",
       "</style>\n",
       "<table border=\"1\" class=\"dataframe\">\n",
       "  <thead>\n",
       "    <tr style=\"text-align: right;\">\n",
       "      <th></th>\n",
       "      <th>subject</th>\n",
       "      <th>sex</th>\n",
       "      <th>age</th>\n",
       "      <th>svol</th>\n",
       "      <th>race</th>\n",
       "      <th>SSAGA_Alc_D4_Ab_Dx</th>\n",
       "      <th>SSAGA_Alc_D4_Dp_Dx</th>\n",
       "      <th>SSAGA_Mj_Ab_Dep</th>\n",
       "    </tr>\n",
       "  </thead>\n",
       "  <tbody>\n",
       "    <tr>\n",
       "      <td>1086</td>\n",
       "      <td>992774</td>\n",
       "      <td>M</td>\n",
       "      <td>35</td>\n",
       "      <td>986206</td>\n",
       "      <td>White</td>\n",
       "      <td>1</td>\n",
       "      <td>1</td>\n",
       "      <td>0</td>\n",
       "    </tr>\n",
       "    <tr>\n",
       "      <td>1087</td>\n",
       "      <td>993675</td>\n",
       "      <td>F</td>\n",
       "      <td>29</td>\n",
       "      <td>912719</td>\n",
       "      <td>White</td>\n",
       "      <td>1</td>\n",
       "      <td>1</td>\n",
       "      <td>0</td>\n",
       "    </tr>\n",
       "    <tr>\n",
       "      <td>1088</td>\n",
       "      <td>994273</td>\n",
       "      <td>M</td>\n",
       "      <td>30</td>\n",
       "      <td>1069490</td>\n",
       "      <td>White</td>\n",
       "      <td>5</td>\n",
       "      <td>1</td>\n",
       "      <td>1</td>\n",
       "    </tr>\n",
       "    <tr>\n",
       "      <td>1089</td>\n",
       "      <td>995174</td>\n",
       "      <td>M</td>\n",
       "      <td>25</td>\n",
       "      <td>1088417</td>\n",
       "      <td>White</td>\n",
       "      <td>1</td>\n",
       "      <td>1</td>\n",
       "      <td>0</td>\n",
       "    </tr>\n",
       "    <tr>\n",
       "      <td>1090</td>\n",
       "      <td>996782</td>\n",
       "      <td>F</td>\n",
       "      <td>28</td>\n",
       "      <td>1138254</td>\n",
       "      <td>White</td>\n",
       "      <td>1</td>\n",
       "      <td>1</td>\n",
       "      <td>0</td>\n",
       "    </tr>\n",
       "  </tbody>\n",
       "</table>\n",
       "</div>"
      ],
      "text/plain": [
       "      subject sex  age     svol   race  SSAGA_Alc_D4_Ab_Dx  \\\n",
       "1086   992774   M   35   986206  White                   1   \n",
       "1087   993675   F   29   912719  White                   1   \n",
       "1088   994273   M   30  1069490  White                   5   \n",
       "1089   995174   M   25  1088417  White                   1   \n",
       "1090   996782   F   28  1138254  White                   1   \n",
       "\n",
       "      SSAGA_Alc_D4_Dp_Dx  SSAGA_Mj_Ab_Dep  \n",
       "1086                   1                0  \n",
       "1087                   1                0  \n",
       "1088                   1                1  \n",
       "1089                   1                0  \n",
       "1090                   1                0  "
      ]
     },
     "execution_count": 3,
     "metadata": {},
     "output_type": "execute_result"
    }
   ],
   "source": [
    "hcp_filtered.tail()"
   ]
  },
  {
   "cell_type": "markdown",
   "metadata": {},
   "source": [
    "# Changing Data Representation\n",
    "The categorical data of sex and race are currently not in a usable format, so we convert the data by sorting all possible values of a certain class (e.g., sex only has two values) into a list and using the index in that list as the class number for that particular value"
   ]
  },
  {
   "cell_type": "code",
   "execution_count": 4,
   "metadata": {},
   "outputs": [],
   "source": [
    "def string_to_class_number(data):\n",
    "    \"\"\"\n",
    "    Converts column categorical data from string format to class numbers.\n",
    "    \n",
    "    Args:\n",
    "    data - pandas series, the column categorical data formated as string\n",
    "    \n",
    "    Return:\n",
    "    pandas series with categorical variables converted to class numbers\n",
    "    \"\"\"\n",
    "    possible_classes = sorted(list(data.unique()))\n",
    "    return data.apply(lambda x: possible_classes.index(x))"
   ]
  },
  {
   "cell_type": "code",
   "execution_count": 5,
   "metadata": {},
   "outputs": [],
   "source": [
    "hcp_filtered['sex'] = string_to_class_number(hcp_filtered['sex'])\n",
    "hcp_filtered['race'] = string_to_class_number(hcp_filtered['race'])"
   ]
  },
  {
   "cell_type": "code",
   "execution_count": 6,
   "metadata": {},
   "outputs": [
    {
     "name": "stdout",
     "output_type": "stream",
     "text": [
      "      subject  sex  age     svol  race  SSAGA_Alc_D4_Ab_Dx  \\\n",
      "0      100206    1   27  1239692     5                   1   \n",
      "1      100307    0   27   957615     5                   1   \n",
      "2      100408    1   33  1106881     5                   1   \n",
      "3      100610    1   27  1155067     5                   1   \n",
      "4      101006    0   35   916973     2                   5   \n",
      "...       ...  ...  ...      ...   ...                 ...   \n",
      "1086   992774    1   35   986206     5                   1   \n",
      "1087   993675    0   29   912719     5                   1   \n",
      "1088   994273    1   30  1069490     5                   5   \n",
      "1089   995174    1   25  1088417     5                   1   \n",
      "1090   996782    0   28  1138254     5                   1   \n",
      "\n",
      "      SSAGA_Alc_D4_Dp_Dx  SSAGA_Mj_Ab_Dep  \n",
      "0                      1                0  \n",
      "1                      1                0  \n",
      "2                      1                1  \n",
      "3                      1                0  \n",
      "4                      1                0  \n",
      "...                  ...              ...  \n",
      "1086                   1                0  \n",
      "1087                   1                0  \n",
      "1088                   1                1  \n",
      "1089                   1                0  \n",
      "1090                   1                0  \n",
      "\n",
      "[1091 rows x 8 columns]\n"
     ]
    }
   ],
   "source": [
    "print(hcp_filtered)"
   ]
  },
  {
   "cell_type": "code",
   "execution_count": 11,
   "metadata": {},
   "outputs": [
    {
     "name": "stdout",
     "output_type": "stream",
     "text": [
      "Number of data points:  1091\n",
      "Number of features:  8\n",
      "\n",
      "\n",
      "                    num_present      max     min          mean     median\n",
      "subject                    1091   996782  100206  3.726079e+05   211417.0\n",
      "sex                        1091        1       0  4.564620e-01        0.0\n",
      "age                        1091       37      22  2.878643e+01       29.0\n",
      "svol                       1091  1461710  748507  1.033279e+06  1029193.0\n",
      "race                       1091        5       0  4.242896e+00        5.0\n",
      "SSAGA_Alc_D4_Ab_Dx         1091        5       1  1.601283e+00        1.0\n",
      "SSAGA_Alc_D4_Dp_Dx         1091        5       1  1.227314e+00        1.0\n",
      "SSAGA_Mj_Ab_Dep            1091        1       0  9.165903e-02        0.0 \n",
      "\n",
      "\n",
      "\n"
     ]
    },
    {
     "data": {
      "image/png": "[encoded data removed]",
      "text/plain": [
       "<Figure size 432x288 with 1 Axes>"
      ]
     },
     "metadata": {
      "needs_background": "light"
     },
     "output_type": "display_data"
    },
    {
     "name": "stdout",
     "output_type": "stream",
     "text": [
      "\n",
      "\n"
     ]
    },
    {
     "data": {
      "image/png": "[encoded data removed]",
      "text/plain": [
       "<Figure size 432x288 with 1 Axes>"
      ]
     },
     "metadata": {
      "needs_background": "light"
     },
     "output_type": "display_data"
    },
    {
     "name": "stdout",
     "output_type": "stream",
     "text": [
      "\n",
      "\n"
     ]
    },
    {
     "data": {
      "image/png": "[encoded data removed]",
      "text/plain": [
       "<Figure size 432x288 with 1 Axes>"
      ]
     },
     "metadata": {
      "needs_background": "light"
     },
     "output_type": "display_data"
    },
    {
     "name": "stdout",
     "output_type": "stream",
     "text": [
      "\n",
      "\n"
     ]
    },
    {
     "data": {
      "image/png": "[encoded data removed]",
      "text/plain": [
       "<Figure size 432x288 with 1 Axes>"
      ]
     },
     "metadata": {
      "needs_background": "light"
     },
     "output_type": "display_data"
    },
    {
     "name": "stdout",
     "output_type": "stream",
     "text": [
      "\n",
      "\n"
     ]
    },
    {
     "data": {
      "image/png": "[encoded data removed]",
      "text/plain": [
       "<Figure size 432x288 with 1 Axes>"
      ]
     },
     "metadata": {
      "needs_background": "light"
     },
     "output_type": "display_data"
    },
    {
     "name": "stdout",
     "output_type": "stream",
     "text": [
      "\n",
      "\n"
     ]
    },
    {
     "data": {
      "image/png": "[encoded data removed]",
      "text/plain": [
       "<Figure size 432x288 with 1 Axes>"
      ]
     },
     "metadata": {
      "needs_background": "light"
     },
     "output_type": "display_data"
    },
    {
     "name": "stdout",
     "output_type": "stream",
     "text": [
      "\n",
      "\n"
     ]
    },
    {
     "data": {
      "image/png": "[encoded data removed]",
      "text/plain": [
       "<Figure size 432x288 with 1 Axes>"
      ]
     },
     "metadata": {
      "needs_background": "light"
     },
     "output_type": "display_data"
    },
    {
     "name": "stdout",
     "output_type": "stream",
     "text": [
      "\n",
      "\n"
     ]
    },
    {
     "data": {
      "image/png": "[encoded data removed]",
      "text/plain": [
       "<Figure size 432x288 with 2 Axes>"
      ]
     },
     "metadata": {
      "needs_background": "light"
     },
     "output_type": "display_data"
    }
   ],
   "source": [
    "vz.summary(hcp_filtered, target_name=\"age\")"
   ]
  },
  {
   "cell_type": "code",
   "execution_count": null,
   "metadata": {},
   "outputs": [],
   "source": [
    "# import phenotype file for subject age and sex)\n",
    "data_label = pd.read_csv('phenotypes_preprocessed.csv')\n",
    "dlabel = data_label[['subject','AGE_AT_SCAN','SEX']]"
   ]
  },
  {
   "cell_type": "code",
   "execution_count": null,
   "metadata": {},
   "outputs": [],
   "source": [
    "# find way to open data files\n",
    "# files = []\n",
    "df_list = []\n",
    "for f in glob.glob(\"data/*.1D\"):\n",
    "    fo = open(f, \"r\")\n",
    "    print(f)\n",
    "    df_list.append(pd.read_csv(f, sep=\"\\t\"))\n"
   ]
  },
  {
   "cell_type": "code",
   "execution_count": 17,
   "metadata": {},
   "outputs": [
    {
     "data": {
      "text/html": [
       "<div>\n",
       "<style scoped>\n",
       "    .dataframe tbody tr th:only-of-type {\n",
       "        vertical-align: middle;\n",
       "    }\n",
       "\n",
       "    .dataframe tbody tr th {\n",
       "        vertical-align: top;\n",
       "    }\n",
       "\n",
       "    .dataframe thead th {\n",
       "        text-align: right;\n",
       "    }\n",
       "</style>\n",
       "<table border=\"1\" class=\"dataframe\">\n",
       "  <thead>\n",
       "    <tr style=\"text-align: right;\">\n",
       "      <th></th>\n",
       "      <th>#1</th>\n",
       "      <th>#2</th>\n",
       "      <th>#3</th>\n",
       "      <th>#4</th>\n",
       "      <th>#5</th>\n",
       "      <th>#6</th>\n",
       "      <th>#7</th>\n",
       "      <th>#8</th>\n",
       "      <th>#9</th>\n",
       "      <th>#10</th>\n",
       "      <th>...</th>\n",
       "      <th>#191</th>\n",
       "      <th>#192</th>\n",
       "      <th>#193</th>\n",
       "      <th>#194</th>\n",
       "      <th>#195</th>\n",
       "      <th>#196</th>\n",
       "      <th>#197</th>\n",
       "      <th>#198</th>\n",
       "      <th>#199</th>\n",
       "      <th>#200</th>\n",
       "    </tr>\n",
       "  </thead>\n",
       "  <tbody>\n",
       "    <tr>\n",
       "      <th>count</th>\n",
       "      <td>146.000000</td>\n",
       "      <td>146.000000</td>\n",
       "      <td>146.000000</td>\n",
       "      <td>146.000000</td>\n",
       "      <td>146.000000</td>\n",
       "      <td>146.000000</td>\n",
       "      <td>146.000000</td>\n",
       "      <td>146.000000</td>\n",
       "      <td>146.000000</td>\n",
       "      <td>146.000000</td>\n",
       "      <td>...</td>\n",
       "      <td>146.000000</td>\n",
       "      <td>146.000000</td>\n",
       "      <td>146.000000</td>\n",
       "      <td>146.000000</td>\n",
       "      <td>146.000000</td>\n",
       "      <td>146.000000</td>\n",
       "      <td>146.000000</td>\n",
       "      <td>146.000000</td>\n",
       "      <td>146.000000</td>\n",
       "      <td>146.000000</td>\n",
       "    </tr>\n",
       "    <tr>\n",
       "      <th>mean</th>\n",
       "      <td>-0.004429</td>\n",
       "      <td>-0.163218</td>\n",
       "      <td>-0.146496</td>\n",
       "      <td>0.030247</td>\n",
       "      <td>-0.091939</td>\n",
       "      <td>0.170214</td>\n",
       "      <td>0.164188</td>\n",
       "      <td>0.225583</td>\n",
       "      <td>-0.408378</td>\n",
       "      <td>-0.297319</td>\n",
       "      <td>...</td>\n",
       "      <td>-0.023853</td>\n",
       "      <td>-0.030626</td>\n",
       "      <td>-0.094268</td>\n",
       "      <td>-0.114288</td>\n",
       "      <td>0.030051</td>\n",
       "      <td>0.031499</td>\n",
       "      <td>0.090190</td>\n",
       "      <td>0.000487</td>\n",
       "      <td>-0.300192</td>\n",
       "      <td>0.012923</td>\n",
       "    </tr>\n",
       "    <tr>\n",
       "      <th>std</th>\n",
       "      <td>1.447758</td>\n",
       "      <td>20.321835</td>\n",
       "      <td>16.994126</td>\n",
       "      <td>7.582000</td>\n",
       "      <td>13.006948</td>\n",
       "      <td>15.673718</td>\n",
       "      <td>18.262835</td>\n",
       "      <td>17.167597</td>\n",
       "      <td>24.933706</td>\n",
       "      <td>15.936456</td>\n",
       "      <td>...</td>\n",
       "      <td>9.483373</td>\n",
       "      <td>3.333214</td>\n",
       "      <td>19.158825</td>\n",
       "      <td>24.601860</td>\n",
       "      <td>3.884324</td>\n",
       "      <td>13.340824</td>\n",
       "      <td>11.005187</td>\n",
       "      <td>0.550998</td>\n",
       "      <td>15.858138</td>\n",
       "      <td>12.668529</td>\n",
       "    </tr>\n",
       "    <tr>\n",
       "      <th>min</th>\n",
       "      <td>-2.981546</td>\n",
       "      <td>-41.701952</td>\n",
       "      <td>-40.899163</td>\n",
       "      <td>-15.994627</td>\n",
       "      <td>-35.268999</td>\n",
       "      <td>-38.806902</td>\n",
       "      <td>-45.533322</td>\n",
       "      <td>-39.181188</td>\n",
       "      <td>-68.222208</td>\n",
       "      <td>-40.546024</td>\n",
       "      <td>...</td>\n",
       "      <td>-19.571393</td>\n",
       "      <td>-13.165261</td>\n",
       "      <td>-53.337428</td>\n",
       "      <td>-66.695331</td>\n",
       "      <td>-8.051962</td>\n",
       "      <td>-38.712308</td>\n",
       "      <td>-22.331135</td>\n",
       "      <td>-1.615163</td>\n",
       "      <td>-53.007661</td>\n",
       "      <td>-37.798824</td>\n",
       "    </tr>\n",
       "    <tr>\n",
       "      <th>25%</th>\n",
       "      <td>-1.073616</td>\n",
       "      <td>-16.821358</td>\n",
       "      <td>-11.082425</td>\n",
       "      <td>-4.754570</td>\n",
       "      <td>-9.487249</td>\n",
       "      <td>-11.244591</td>\n",
       "      <td>-11.041452</td>\n",
       "      <td>-11.398477</td>\n",
       "      <td>-14.613723</td>\n",
       "      <td>-11.425973</td>\n",
       "      <td>...</td>\n",
       "      <td>-7.628431</td>\n",
       "      <td>-1.989030</td>\n",
       "      <td>-13.279688</td>\n",
       "      <td>-16.570038</td>\n",
       "      <td>-2.724366</td>\n",
       "      <td>-7.688632</td>\n",
       "      <td>-7.732357</td>\n",
       "      <td>-0.345473</td>\n",
       "      <td>-9.661739</td>\n",
       "      <td>-8.948710</td>\n",
       "    </tr>\n",
       "    <tr>\n",
       "      <th>50%</th>\n",
       "      <td>-0.066477</td>\n",
       "      <td>1.079970</td>\n",
       "      <td>-0.836398</td>\n",
       "      <td>0.412479</td>\n",
       "      <td>-1.444107</td>\n",
       "      <td>1.103079</td>\n",
       "      <td>1.630483</td>\n",
       "      <td>0.128543</td>\n",
       "      <td>1.074445</td>\n",
       "      <td>-0.038457</td>\n",
       "      <td>...</td>\n",
       "      <td>-0.250014</td>\n",
       "      <td>-0.129298</td>\n",
       "      <td>-1.568308</td>\n",
       "      <td>0.467812</td>\n",
       "      <td>-0.331429</td>\n",
       "      <td>0.359931</td>\n",
       "      <td>-1.332158</td>\n",
       "      <td>-0.027369</td>\n",
       "      <td>-0.187066</td>\n",
       "      <td>-1.159858</td>\n",
       "    </tr>\n",
       "    <tr>\n",
       "      <th>75%</th>\n",
       "      <td>0.871902</td>\n",
       "      <td>13.589132</td>\n",
       "      <td>11.960333</td>\n",
       "      <td>4.089268</td>\n",
       "      <td>8.724686</td>\n",
       "      <td>11.522799</td>\n",
       "      <td>11.374413</td>\n",
       "      <td>11.463790</td>\n",
       "      <td>15.661942</td>\n",
       "      <td>11.116881</td>\n",
       "      <td>...</td>\n",
       "      <td>6.507345</td>\n",
       "      <td>1.773791</td>\n",
       "      <td>14.253164</td>\n",
       "      <td>18.534299</td>\n",
       "      <td>2.362207</td>\n",
       "      <td>9.784143</td>\n",
       "      <td>8.045539</td>\n",
       "      <td>0.345003</td>\n",
       "      <td>9.182786</td>\n",
       "      <td>7.703413</td>\n",
       "    </tr>\n",
       "    <tr>\n",
       "      <th>max</th>\n",
       "      <td>4.282888</td>\n",
       "      <td>49.313939</td>\n",
       "      <td>45.123644</td>\n",
       "      <td>28.272513</td>\n",
       "      <td>32.266822</td>\n",
       "      <td>33.102185</td>\n",
       "      <td>48.696304</td>\n",
       "      <td>38.092583</td>\n",
       "      <td>64.937605</td>\n",
       "      <td>45.708284</td>\n",
       "      <td>...</td>\n",
       "      <td>20.941179</td>\n",
       "      <td>12.057966</td>\n",
       "      <td>41.156852</td>\n",
       "      <td>62.736893</td>\n",
       "      <td>11.199367</td>\n",
       "      <td>29.078942</td>\n",
       "      <td>33.320283</td>\n",
       "      <td>1.244779</td>\n",
       "      <td>46.760016</td>\n",
       "      <td>25.811339</td>\n",
       "    </tr>\n",
       "  </tbody>\n",
       "</table>\n",
       "<p>8 rows × 200 columns</p>\n",
       "</div>"
      ],
      "text/plain": [
       "               #1          #2          #3          #4          #5          #6  \\\n",
       "count  146.000000  146.000000  146.000000  146.000000  146.000000  146.000000   \n",
       "mean    -0.004429   -0.163218   -0.146496    0.030247   -0.091939    0.170214   \n",
       "std      1.447758   20.321835   16.994126    7.582000   13.006948   15.673718   \n",
       "min     -2.981546  -41.701952  -40.899163  -15.994627  -35.268999  -38.806902   \n",
       "25%     -1.073616  -16.821358  -11.082425   -4.754570   -9.487249  -11.244591   \n",
       "50%     -0.066477    1.079970   -0.836398    0.412479   -1.444107    1.103079   \n",
       "75%      0.871902   13.589132   11.960333    4.089268    8.724686   11.522799   \n",
       "max      4.282888   49.313939   45.123644   28.272513   32.266822   33.102185   \n",
       "\n",
       "               #7          #8          #9         #10     ...            #191  \\\n",
       "count  146.000000  146.000000  146.000000  146.000000     ...      146.000000   \n",
       "mean     0.164188    0.225583   -0.408378   -0.297319     ...       -0.023853   \n",
       "std     18.262835   17.167597   24.933706   15.936456     ...        9.483373   \n",
       "min    -45.533322  -39.181188  -68.222208  -40.546024     ...      -19.571393   \n",
       "25%    -11.041452  -11.398477  -14.613723  -11.425973     ...       -7.628431   \n",
       "50%      1.630483    0.128543    1.074445   -0.038457     ...       -0.250014   \n",
       "75%     11.374413   11.463790   15.661942   11.116881     ...        6.507345   \n",
       "max     48.696304   38.092583   64.937605   45.708284     ...       20.941179   \n",
       "\n",
       "             #192        #193        #194        #195        #196        #197  \\\n",
       "count  146.000000  146.000000  146.000000  146.000000  146.000000  146.000000   \n",
       "mean    -0.030626   -0.094268   -0.114288    0.030051    0.031499    0.090190   \n",
       "std      3.333214   19.158825   24.601860    3.884324   13.340824   11.005187   \n",
       "min    -13.165261  -53.337428  -66.695331   -8.051962  -38.712308  -22.331135   \n",
       "25%     -1.989030  -13.279688  -16.570038   -2.724366   -7.688632   -7.732357   \n",
       "50%     -0.129298   -1.568308    0.467812   -0.331429    0.359931   -1.332158   \n",
       "75%      1.773791   14.253164   18.534299    2.362207    9.784143    8.045539   \n",
       "max     12.057966   41.156852   62.736893   11.199367   29.078942   33.320283   \n",
       "\n",
       "             #198        #199        #200  \n",
       "count  146.000000  146.000000  146.000000  \n",
       "mean     0.000487   -0.300192    0.012923  \n",
       "std      0.550998   15.858138   12.668529  \n",
       "min     -1.615163  -53.007661  -37.798824  \n",
       "25%     -0.345473   -9.661739   -8.948710  \n",
       "50%     -0.027369   -0.187066   -1.159858  \n",
       "75%      0.345003    9.182786    7.703413  \n",
       "max      1.244779   46.760016   25.811339  \n",
       "\n",
       "[8 rows x 200 columns]"
      ]
     },
     "execution_count": 17,
     "metadata": {},
     "output_type": "execute_result"
    }
   ],
   "source": [
    "df_list[0].describe()"
   ]
  },
  {
   "cell_type": "code",
   "execution_count": null,
   "metadata": {},
   "outputs": [],
   "source": [
    "# import cc200 data \n",
    "files = []\n",
    "subjectID = []\n",
    "for f in glob.glob(\"data/*.1D\"):\n",
    "    files.append(f)\n",
    "    labels = f.split('_')\n",
    "    if len(labels[1]) > 2:\n",
    "        subjectID.append(labels[1])\n",
    "    else:\n",
    "        subjectID.append(labels[2])\n",
    "assert(len(s) == 7 for s in subjectID)\n",
    "\n",
    "test_data = pd.DataFrame({'file': files, 'subject': subjectID})\n",
    "# test_data.astype({'subject': 'int64'}).dtypes\n",
    "test_data[\"subject\"] = pd.to_numeric(test_data[\"subject\"])\n",
    "print(test_data['subject'])"
   ]
  }
 ],
 "metadata": {
  "kernelspec": {
   "display_name": "Python 2",
   "language": "python",
   "name": "python2"
  },
  "language_info": {
   "codemirror_mode": {
    "name": "ipython",
    "version": 3
   },
   "file_extension": ".py",
   "mimetype": "text/x-python",
   "name": "python",
   "nbconvert_exporter": "python",
   "pygments_lexer": "ipython3",
   "version": "3.6.8"
  }
 },
 "nbformat": 4,
 "nbformat_minor": 2
}
