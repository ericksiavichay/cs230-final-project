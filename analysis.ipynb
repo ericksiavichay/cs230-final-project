{
 "cells": [
  {
   "cell_type": "markdown",
   "metadata": {},
   "source": [
    "# Introduction: HCP 1200 Sample Data Analysis"
   ]
  },
  {
   "cell_type": "code",
   "execution_count": 1,
   "metadata": {},
   "outputs": [],
   "source": [
    "from os import system\n",
    "\n",
    "import pandas as pd\n",
    "import glob\n",
    "import scripts.vizer as vz\n",
    "from matplotlib.ticker import FuncFormatter\n",
    "import matplotlib.pyplot as plt"
   ]
  },
  {
   "cell_type": "code",
   "execution_count": 2,
   "metadata": {},
   "outputs": [],
   "source": [
    "hcp = pd.read_csv(\"data/HCP_1200.csv\")"
   ]
  },
  {
   "cell_type": "code",
   "execution_count": 3,
   "metadata": {},
   "outputs": [],
   "source": [
    "def convert_categorical_to_num(series):\n",
    "    \"\"\"\n",
    "    Converts categorical data, such as age, to a quantifiable number. Uses the unique\n",
    "    values in the series to create a list of the variables, and then uses the index of the variables\n",
    "    as the categorical number.\n",
    "    \n",
    "    Params\n",
    "    series - pandas series object\n",
    "    \n",
    "    Return\n",
    "    converted_series - series with the values converted to a categorical number. This will be used to replace the old series\n",
    "    \"\"\"\n",
    "    \n",
    "    unique_values = list(series.unique()) # gets unique values in the series as a list\n",
    "    converted_series = series.apply(lambda x: unique_values.index(x))\n",
    "    \n",
    "    return converted_series"
   ]
  },
  {
   "cell_type": "code",
   "execution_count": 4,
   "metadata": {},
   "outputs": [],
   "source": [
    "hcp['sex'] = convert_categorical_to_num(hcp['sex'])\n",
    "hcp['race'] = convert_categorical_to_num(hcp['race'])"
   ]
  },
  {
   "cell_type": "code",
   "execution_count": 5,
   "metadata": {},
   "outputs": [
    {
     "data": {
      "text/html": [
       "<div>\n",
       "<style scoped>\n",
       "    .dataframe tbody tr th:only-of-type {\n",
       "        vertical-align: middle;\n",
       "    }\n",
       "\n",
       "    .dataframe tbody tr th {\n",
       "        vertical-align: top;\n",
       "    }\n",
       "\n",
       "    .dataframe thead th {\n",
       "        text-align: right;\n",
       "    }\n",
       "</style>\n",
       "<table border=\"1\" class=\"dataframe\">\n",
       "  <thead>\n",
       "    <tr style=\"text-align: right;\">\n",
       "      <th></th>\n",
       "      <th>subject</th>\n",
       "      <th>sex</th>\n",
       "      <th>age</th>\n",
       "      <th>svol</th>\n",
       "      <th>race</th>\n",
       "      <th>SSAGA_Alc_D4_Ab_Dx</th>\n",
       "      <th>SSAGA_Alc_D4_Dp_Dx</th>\n",
       "      <th>SSAGA_Mj_Ab_Dep</th>\n",
       "    </tr>\n",
       "  </thead>\n",
       "  <tbody>\n",
       "    <tr>\n",
       "      <td>0</td>\n",
       "      <td>100206</td>\n",
       "      <td>0</td>\n",
       "      <td>27</td>\n",
       "      <td>1239692</td>\n",
       "      <td>0</td>\n",
       "      <td>1</td>\n",
       "      <td>1</td>\n",
       "      <td>0</td>\n",
       "    </tr>\n",
       "    <tr>\n",
       "      <td>1</td>\n",
       "      <td>100307</td>\n",
       "      <td>1</td>\n",
       "      <td>27</td>\n",
       "      <td>957615</td>\n",
       "      <td>0</td>\n",
       "      <td>1</td>\n",
       "      <td>1</td>\n",
       "      <td>0</td>\n",
       "    </tr>\n",
       "    <tr>\n",
       "      <td>2</td>\n",
       "      <td>100408</td>\n",
       "      <td>0</td>\n",
       "      <td>33</td>\n",
       "      <td>1106881</td>\n",
       "      <td>0</td>\n",
       "      <td>1</td>\n",
       "      <td>1</td>\n",
       "      <td>1</td>\n",
       "    </tr>\n",
       "    <tr>\n",
       "      <td>3</td>\n",
       "      <td>100610</td>\n",
       "      <td>0</td>\n",
       "      <td>27</td>\n",
       "      <td>1155067</td>\n",
       "      <td>0</td>\n",
       "      <td>1</td>\n",
       "      <td>1</td>\n",
       "      <td>0</td>\n",
       "    </tr>\n",
       "    <tr>\n",
       "      <td>4</td>\n",
       "      <td>101006</td>\n",
       "      <td>1</td>\n",
       "      <td>35</td>\n",
       "      <td>916973</td>\n",
       "      <td>1</td>\n",
       "      <td>5</td>\n",
       "      <td>1</td>\n",
       "      <td>0</td>\n",
       "    </tr>\n",
       "    <tr>\n",
       "      <td>...</td>\n",
       "      <td>...</td>\n",
       "      <td>...</td>\n",
       "      <td>...</td>\n",
       "      <td>...</td>\n",
       "      <td>...</td>\n",
       "      <td>...</td>\n",
       "      <td>...</td>\n",
       "      <td>...</td>\n",
       "    </tr>\n",
       "    <tr>\n",
       "      <td>1103</td>\n",
       "      <td>992774</td>\n",
       "      <td>0</td>\n",
       "      <td>35</td>\n",
       "      <td>986206</td>\n",
       "      <td>0</td>\n",
       "      <td>1</td>\n",
       "      <td>1</td>\n",
       "      <td>0</td>\n",
       "    </tr>\n",
       "    <tr>\n",
       "      <td>1104</td>\n",
       "      <td>993675</td>\n",
       "      <td>1</td>\n",
       "      <td>29</td>\n",
       "      <td>912719</td>\n",
       "      <td>0</td>\n",
       "      <td>1</td>\n",
       "      <td>1</td>\n",
       "      <td>0</td>\n",
       "    </tr>\n",
       "    <tr>\n",
       "      <td>1105</td>\n",
       "      <td>994273</td>\n",
       "      <td>0</td>\n",
       "      <td>30</td>\n",
       "      <td>1069490</td>\n",
       "      <td>0</td>\n",
       "      <td>5</td>\n",
       "      <td>1</td>\n",
       "      <td>1</td>\n",
       "    </tr>\n",
       "    <tr>\n",
       "      <td>1106</td>\n",
       "      <td>995174</td>\n",
       "      <td>0</td>\n",
       "      <td>25</td>\n",
       "      <td>1088417</td>\n",
       "      <td>0</td>\n",
       "      <td>1</td>\n",
       "      <td>1</td>\n",
       "      <td>0</td>\n",
       "    </tr>\n",
       "    <tr>\n",
       "      <td>1107</td>\n",
       "      <td>996782</td>\n",
       "      <td>1</td>\n",
       "      <td>28</td>\n",
       "      <td>1138254</td>\n",
       "      <td>0</td>\n",
       "      <td>1</td>\n",
       "      <td>1</td>\n",
       "      <td>0</td>\n",
       "    </tr>\n",
       "  </tbody>\n",
       "</table>\n",
       "<p>1108 rows × 8 columns</p>\n",
       "</div>"
      ],
      "text/plain": [
       "      subject  sex  age     svol  race  SSAGA_Alc_D4_Ab_Dx  \\\n",
       "0      100206    0   27  1239692     0                   1   \n",
       "1      100307    1   27   957615     0                   1   \n",
       "2      100408    0   33  1106881     0                   1   \n",
       "3      100610    0   27  1155067     0                   1   \n",
       "4      101006    1   35   916973     1                   5   \n",
       "...       ...  ...  ...      ...   ...                 ...   \n",
       "1103   992774    0   35   986206     0                   1   \n",
       "1104   993675    1   29   912719     0                   1   \n",
       "1105   994273    0   30  1069490     0                   5   \n",
       "1106   995174    0   25  1088417     0                   1   \n",
       "1107   996782    1   28  1138254     0                   1   \n",
       "\n",
       "      SSAGA_Alc_D4_Dp_Dx  SSAGA_Mj_Ab_Dep  \n",
       "0                      1                0  \n",
       "1                      1                0  \n",
       "2                      1                1  \n",
       "3                      1                0  \n",
       "4                      1                0  \n",
       "...                  ...              ...  \n",
       "1103                   1                0  \n",
       "1104                   1                0  \n",
       "1105                   1                1  \n",
       "1106                   1                0  \n",
       "1107                   1                0  \n",
       "\n",
       "[1108 rows x 8 columns]"
      ]
     },
     "execution_count": 5,
     "metadata": {},
     "output_type": "execute_result"
    }
   ],
   "source": [
    "hcp"
   ]
  },
  {
   "cell_type": "markdown",
   "metadata": {},
   "source": [
    "# Quick Data Summary\n",
    "For our target variables $age$ and $sex$, we have a negative skew and an even distribution, respectively."
   ]
  },
  {
   "cell_type": "code",
   "execution_count": 6,
   "metadata": {},
   "outputs": [
    {
     "name": "stdout",
     "output_type": "stream",
     "text": [
      "Number of data points:  1108\n",
      "Number of features:  8\n",
      "\n",
      "\n",
      "                    num_present      max     min          mean     median\n",
      "subject                    1108   996782  100206  3.725831e+05   211366.5\n",
      "sex                        1108        1       0  5.442238e-01        1.0\n",
      "age                        1108       37      22  2.880054e+01       29.0\n",
      "svol                       1108  1461710  748507  1.032730e+06  1028310.0\n",
      "race                       1108        5       0  4.729242e-01        0.0\n",
      "SSAGA_Alc_D4_Ab_Dx         1108        5       1  1.606498e+00        1.0\n",
      "SSAGA_Alc_D4_Dp_Dx         1108        5       1  1.227437e+00        1.0\n",
      "SSAGA_Mj_Ab_Dep            1108        1       0  9.205776e-02        0.0 \n",
      "\n",
      "\n",
      "\n"
     ]
    },
    {
     "data": {
      "image/png": "[encoded data removed]",
      "text/plain": [
       "<Figure size 432x288 with 1 Axes>"
      ]
     },
     "metadata": {
      "needs_background": "light"
     },
     "output_type": "display_data"
    },
    {
     "name": "stdout",
     "output_type": "stream",
     "text": [
      "\n",
      "\n"
     ]
    },
    {
     "data": {
      "image/png": "[encoded data removed]",
      "text/plain": [
       "<Figure size 432x288 with 1 Axes>"
      ]
     },
     "metadata": {
      "needs_background": "light"
     },
     "output_type": "display_data"
    },
    {
     "name": "stdout",
     "output_type": "stream",
     "text": [
      "\n",
      "\n"
     ]
    },
    {
     "data": {
      "image/png": "[encoded data removed]",
      "text/plain": [
       "<Figure size 432x288 with 1 Axes>"
      ]
     },
     "metadata": {
      "needs_background": "light"
     },
     "output_type": "display_data"
    },
    {
     "name": "stdout",
     "output_type": "stream",
     "text": [
      "\n",
      "\n"
     ]
    },
    {
     "data": {
      "image/png": "[encoded data removed]",
      "text/plain": [
       "<Figure size 432x288 with 1 Axes>"
      ]
     },
     "metadata": {
      "needs_background": "light"
     },
     "output_type": "display_data"
    },
    {
     "name": "stdout",
     "output_type": "stream",
     "text": [
      "\n",
      "\n"
     ]
    },
    {
     "data": {
      "image/png": "[encoded data removed]",
      "text/plain": [
       "<Figure size 432x288 with 1 Axes>"
      ]
     },
     "metadata": {
      "needs_background": "light"
     },
     "output_type": "display_data"
    },
    {
     "name": "stdout",
     "output_type": "stream",
     "text": [
      "\n",
      "\n"
     ]
    },
    {
     "data": {
      "image/png": "[encoded data removed]",
      "text/plain": [
       "<Figure size 432x288 with 1 Axes>"
      ]
     },
     "metadata": {
      "needs_background": "light"
     },
     "output_type": "display_data"
    },
    {
     "name": "stdout",
     "output_type": "stream",
     "text": [
      "\n",
      "\n"
     ]
    },
    {
     "data": {
      "image/png": "[encoded data removed]",
      "text/plain": [
       "<Figure size 432x288 with 1 Axes>"
      ]
     },
     "metadata": {
      "needs_background": "light"
     },
     "output_type": "display_data"
    },
    {
     "name": "stdout",
     "output_type": "stream",
     "text": [
      "\n",
      "\n"
     ]
    },
    {
     "data": {
      "image/png": "[encoded data removed]",
      "text/plain": [
       "<Figure size 432x288 with 2 Axes>"
      ]
     },
     "metadata": {
      "needs_background": "light"
     },
     "output_type": "display_data"
    }
   ],
   "source": [
    "vz.summary(hcp, target_name=\"sex\")"
   ]
  },
  {
   "cell_type": "code",
   "execution_count": 7,
   "metadata": {},
   "outputs": [],
   "source": [
    "hcp['count'] = [1 for i in range(hcp.shape[0])]"
   ]
  },
  {
   "cell_type": "code",
   "execution_count": 8,
   "metadata": {
    "scrolled": true
   },
   "outputs": [
    {
     "name": "stdout",
     "output_type": "stream",
     "text": [
      "       subject    age       svol race SSAGA_Alc_D4_Ab_Dx SSAGA_Alc_D4_Dp_Dx  \\\n",
      "           sum    sum        sum  sum                sum                sum   \n",
      "sex                                                                           \n",
      "0    193185574  14087  560691169  225                913                693   \n",
      "1    219636540  17824  583574047  299                867                667   \n",
      "\n",
      "    SSAGA_Mj_Ab_Dep count  \n",
      "                sum   sum  \n",
      "sex                        \n",
      "0                76   505  \n",
      "1                26   603  \n"
     ]
    },
    {
     "data": {
      "image/png": "[encoded data removed]",
      "text/plain": [
       "<Figure size 432x288 with 1 Axes>"
      ]
     },
     "metadata": {
      "needs_background": "light"
     },
     "output_type": "display_data"
    }
   ],
   "source": [
    "df1 = hcp.groupby('sex').agg(['sum'])\n",
    "print(df1)\n",
    "axes = df1.plot.bar(y='count', rot=0)\n",
    "# axes.figure.savefig('sex_distrib.svg')"
   ]
  },
  {
   "cell_type": "code",
   "execution_count": 9,
   "metadata": {},
   "outputs": [
    {
     "name": "stdout",
     "output_type": "stream",
     "text": [
      "      subject sex       svol race SSAGA_Alc_D4_Ab_Dx SSAGA_Alc_D4_Dp_Dx  \\\n",
      "          sum sum        sum  sum                sum                sum   \n",
      "age                                                                       \n",
      "22   20440737  18   55149611   48                 72                 56   \n",
      "23   22765360  27   66028023   69                 96                 76   \n",
      "24   15782258  14   48799961   21                 74                 50   \n",
      "25   28616156  25   72713227   56                113                101   \n",
      "26   28517016  51   92708735   47                149                109   \n",
      "27   40469415  45  115912378   40                185                121   \n",
      "28   35313445  51   98220845   32                162                134   \n",
      "29   38535115  55   99120674   27                137                133   \n",
      "30   36197952  60   96324869   28                181                113   \n",
      "31   29696725  50   91641392   30                137                105   \n",
      "32   34554398  56   94314485   57                145                105   \n",
      "33   33698471  58   87735217   26                131                 99   \n",
      "34   19718743  38   56078692   15                100                 68   \n",
      "35   23089919  46   56860553   19                 77                 73   \n",
      "36    4633537   9   11477258    9                 20                 16   \n",
      "37     792867   0    1179296    0                  1                  1   \n",
      "\n",
      "    SSAGA_Mj_Ab_Dep count  \n",
      "                sum   sum  \n",
      "age                        \n",
      "22                4    52  \n",
      "23                6    64  \n",
      "24                7    46  \n",
      "25                8    69  \n",
      "26                7    89  \n",
      "27               12   109  \n",
      "28                9    94  \n",
      "29                6    97  \n",
      "30               12    93  \n",
      "31                6    89  \n",
      "32               12    93  \n",
      "33                5    87  \n",
      "34                6    56  \n",
      "35                2    57  \n",
      "36                0    12  \n",
      "37                0     1  \n"
     ]
    },
    {
     "data": {
      "image/png": "[encoded data removed]",
      "text/plain": [
       "<Figure size 432x288 with 1 Axes>"
      ]
     },
     "metadata": {
      "needs_background": "light"
     },
     "output_type": "display_data"
    }
   ],
   "source": [
    "df2 = hcp.groupby('age').agg(['sum'])\n",
    "print(df2)\n",
    "axes2 = df2.plot.bar(y='count', rot=0)\n",
    "axes2.figure.savefig('age_distrib.svg')"
   ]
  },
  {
   "cell_type": "markdown",
   "metadata": {},
   "source": [
    "# Running the Model"
   ]
  },
  {
   "cell_type": "markdown",
   "metadata": {},
   "source": [
    "We plot the accuracy of the model. A prediction is classified correct if it is a member of the top k predicted classes. Here, we chose  𝑘∈[1,5] . We therefore plot the accuracy per epoch for each k.\n",
    "\n",
    "In the case of sex, we only have two possible classes (male and female). Therefore, if  𝑘=1 , the accuracy is just the percentage of correctly predicted sexes. If  𝑘≥2 , the accuracy will always be 100% since any prediction is a prediction among the  𝑘≥2  classes. For example, let's say a predicted sex is correct if it is a member of the top 2 predicted classes. In this case, the top two predicted classes are male and female. Any prediction will always be a member of this set and therefore it counts as correct, hence 100% accuracy. For sex, it is only interesting to analyze the accuracy among the top 1 classes."
   ]
  }
 ],
 "metadata": {
  "kernelspec": {
   "display_name": "Python 3",
   "language": "python",
   "name": "python3"
  },
  "language_info": {
   "codemirror_mode": {
    "name": "ipython",
    "version": 3
   },
   "file_extension": ".py",
   "mimetype": "text/x-python",
   "name": "python",
   "nbconvert_exporter": "python",
   "pygments_lexer": "ipython3",
   "version": "3.6.8"
  }
 },
 "nbformat": 4,
 "nbformat_minor": 2
}
